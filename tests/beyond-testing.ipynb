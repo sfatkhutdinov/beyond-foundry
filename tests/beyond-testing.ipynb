{
 "cells": [
  {
   "cell_type": "code",
   "execution_count": 24,
   "id": "a38a636d",
   "metadata": {},
   "outputs": [],
   "source": [
    "import json\n",
    "import pandas as pd"
   ]
  },
  {
   "cell_type": "code",
   "execution_count": 25,
   "id": "49f3bf93",
   "metadata": {},
   "outputs": [],
   "source": [
    "with open('147565858.json', 'r') as f:\n",
    "\tdata = json.load(f)"
   ]
  },
  {
   "cell_type": "code",
   "execution_count": 26,
   "id": "b53b7279",
   "metadata": {},
   "outputs": [
    {
     "data": {
      "text/html": [
       "<div>\n",
       "<style scoped>\n",
       "    .dataframe tbody tr th:only-of-type {\n",
       "        vertical-align: middle;\n",
       "    }\n",
       "\n",
       "    .dataframe tbody tr th {\n",
       "        vertical-align: top;\n",
       "    }\n",
       "\n",
       "    .dataframe thead th {\n",
       "        text-align: right;\n",
       "    }\n",
       "</style>\n",
       "<table border=\"1\" class=\"dataframe\">\n",
       "  <thead>\n",
       "    <tr style=\"text-align: right;\">\n",
       "      <th></th>\n",
       "      <th>id</th>\n",
       "      <th>userId</th>\n",
       "      <th>username</th>\n",
       "      <th>isAssignedToPlayer</th>\n",
       "      <th>readonlyUrl</th>\n",
       "      <th>decorations</th>\n",
       "      <th>name</th>\n",
       "      <th>socialName</th>\n",
       "      <th>gender</th>\n",
       "      <th>faith</th>\n",
       "      <th>...</th>\n",
       "      <th>campaign</th>\n",
       "      <th>creatures</th>\n",
       "      <th>optionalOrigins</th>\n",
       "      <th>optionalClassFeatures</th>\n",
       "      <th>dateModified</th>\n",
       "      <th>providedFrom</th>\n",
       "      <th>canEdit</th>\n",
       "      <th>status</th>\n",
       "      <th>statusSlug</th>\n",
       "      <th>campaignSetting</th>\n",
       "    </tr>\n",
       "  </thead>\n",
       "  <tbody>\n",
       "    <tr>\n",
       "      <th>0</th>\n",
       "      <td>147565858</td>\n",
       "      <td>100113018</td>\n",
       "      <td>Stan1992</td>\n",
       "      <td>True</td>\n",
       "      <td>https://dndbeyond.com/characters/147565858</td>\n",
       "      <td>{'avatarUrl': 'https://www.dndbeyond.com/avata...</td>\n",
       "      <td>Brubak</td>\n",
       "      <td>None</td>\n",
       "      <td>None</td>\n",
       "      <td>None</td>\n",
       "      <td>...</td>\n",
       "      <td>None</td>\n",
       "      <td>[]</td>\n",
       "      <td>[]</td>\n",
       "      <td>[]</td>\n",
       "      <td>2025-06-08T01:13:40.158Z</td>\n",
       "      <td>storage</td>\n",
       "      <td>True</td>\n",
       "      <td>1</td>\n",
       "      <td>active</td>\n",
       "      <td>None</td>\n",
       "    </tr>\n",
       "  </tbody>\n",
       "</table>\n",
       "<p>1 rows × 71 columns</p>\n",
       "</div>"
      ],
      "text/plain": [
       "          id     userId  username  isAssignedToPlayer  \\\n",
       "0  147565858  100113018  Stan1992                True   \n",
       "\n",
       "                                  readonlyUrl  \\\n",
       "0  https://dndbeyond.com/characters/147565858   \n",
       "\n",
       "                                         decorations    name socialName  \\\n",
       "0  {'avatarUrl': 'https://www.dndbeyond.com/avata...  Brubak       None   \n",
       "\n",
       "  gender faith  ... campaign creatures optionalOrigins optionalClassFeatures  \\\n",
       "0   None  None  ...     None        []              []                    []   \n",
       "\n",
       "               dateModified providedFrom  canEdit  status statusSlug  \\\n",
       "0  2025-06-08T01:13:40.158Z      storage     True       1     active   \n",
       "\n",
       "  campaignSetting  \n",
       "0            None  \n",
       "\n",
       "[1 rows x 71 columns]"
      ]
     },
     "execution_count": 26,
     "metadata": {},
     "output_type": "execute_result"
    }
   ],
   "source": [
    "df = pd.DataFrame([data])\n",
    "df.head()"
   ]
  },
  {
   "cell_type": "code",
   "execution_count": 27,
   "id": "2c933a6f",
   "metadata": {},
   "outputs": [
    {
     "data": {
      "text/plain": [
       "Index(['id', 'userId', 'username', 'isAssignedToPlayer', 'readonlyUrl',\n",
       "       'decorations', 'name', 'socialName', 'gender', 'faith', 'age', 'hair',\n",
       "       'eyes', 'skin', 'height', 'weight', 'inspiration', 'baseHitPoints',\n",
       "       'bonusHitPoints', 'overrideHitPoints', 'removedHitPoints',\n",
       "       'temporaryHitPoints', 'currentXp', 'alignmentId', 'lifestyleId',\n",
       "       'stats', 'bonusStats', 'overrideStats', 'background', 'race',\n",
       "       'raceDefinitionId', 'raceDefinitionTypeId', 'notes', 'traits',\n",
       "       'preferences', 'configuration', 'lifestyle', 'inventory', 'currencies',\n",
       "       'classes', 'feats', 'features', 'customDefenseAdjustments',\n",
       "       'customSenses', 'customSpeeds', 'customProficiencies', 'customActions',\n",
       "       'characterValues', 'conditions', 'deathSaves', 'adjustmentXp',\n",
       "       'spellSlots', 'pactMagic', 'activeSourceCategories', 'spells',\n",
       "       'options', 'choices', 'actions', 'modifiers', 'classSpells',\n",
       "       'customItems', 'campaign', 'creatures', 'optionalOrigins',\n",
       "       'optionalClassFeatures', 'dateModified', 'providedFrom', 'canEdit',\n",
       "       'status', 'statusSlug', 'campaignSetting'],\n",
       "      dtype='object')"
      ]
     },
     "execution_count": 27,
     "metadata": {},
     "output_type": "execute_result"
    }
   ],
   "source": [
    "df.columns"
   ]
  }
 ],
 "metadata": {
  "kernelspec": {
   "display_name": "base",
   "language": "python",
   "name": "python3"
  },
  "language_info": {
   "codemirror_mode": {
    "name": "ipython",
    "version": 3
   },
   "file_extension": ".py",
   "mimetype": "text/x-python",
   "name": "python",
   "nbconvert_exporter": "python",
   "pygments_lexer": "ipython3",
   "version": "3.12.7"
  }
 },
 "nbformat": 4,
 "nbformat_minor": 5
}

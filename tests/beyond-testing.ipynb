{
 "cells": [
  {
   "cell_type": "code",
   "execution_count": 2,
   "id": "a38a636d",
   "metadata": {},
   "outputs": [],
   "source": [
    "import json\n",
    "import pandas as pd"
   ]
  },
  {
   "cell_type": "code",
   "execution_count": null,
   "id": "49f3bf93",
   "metadata": {},
   "outputs": [],
   "source": [
    "with open('147565858.json', 'r') as f:\n",
    "\tdata = json.load(f)\n",
    "\n",
    "with open('147570397.json', 'r') as f:\n",
    "\tdata2 = json.load(f)"
   ]
  },
  {
   "cell_type": "code",
   "execution_count": null,
   "id": "b53b7279",
   "metadata": {},
   "outputs": [],
   "source": [
    "df = pd.DataFrame([data])\n",
    "df2 = pd.DataFrame([data2])"
   ]
  },
  {
   "cell_type": "markdown",
   "id": "292f6af9",
   "metadata": {},
   "source": [
    "# DataFrame Comparison Cleanup\n",
    "This notebook previously compared two D&D Beyond character JSON files (147565858 and 147570397) by loading them into pandas DataFrames and checking for differences in structure, columns, and data types. The following cells provide a concise, cleaned-up version of the comparison process, suitable for future reference or extension."
   ]
  },
  {
   "cell_type": "code",
   "execution_count": null,
   "id": "cf3c008f",
   "metadata": {},
   "outputs": [],
   "source": [
    "# Check if DataFrames have the same structure\n",
    "if df.shape == df2.shape:\n",
    "    print(\"DataFrames have the same structure.\")\n",
    "else:\n",
    "    print(\"DataFrames have different structures.\")\n",
    "    print(f\"Shape of df: {df.shape}, Shape of df2: {df2.shape}\")\n",
    "\n",
    "# Check if DataFrames have the same columns\n",
    "if df.columns.equals(df2.columns):\n",
    "    print(\"DataFrames have the same columns.\")\n",
    "else:\n",
    "    print(\"DataFrames have different columns.\")\n",
    "    print(f\"Columns of df: {df.columns.tolist()}, Columns of df2: {df2.columns.tolist()}\")\n",
    "\n",
    "# Check if DataFrames have the same data types\n",
    "if df.dtypes.equals(df2.dtypes):\n",
    "    print(\"DataFrames have the same data types.\")\n",
    "else:\n",
    "    print(\"DataFrames have different data types.\")\n",
    "    print(f\"Data types of df:\\n{df.dtypes}\\nData types of df2:\\n{df2.dtypes}\")"
   ]
  },
  {
   "cell_type": "code",
   "execution_count": null,
   "id": "e88fcdb7",
   "metadata": {},
   "outputs": [],
   "source": [
    "# Show differences between the two DataFrames (if any)\n",
    "diff = df.compare(df2, keep_shape=True, keep_equal=True)\n",
    "if not diff.empty:\n",
    "    print(\"Differences between DataFrames:\")\n",
    "    print(diff)\n",
    "else:\n",
    "    print(\"No differences found between DataFrames.\")"
   ]
  },
  {
   "cell_type": "markdown",
   "id": "f58fad02",
   "metadata": {},
   "source": [
    "---\n",
    "## Notebook Cleanup Notes\n",
    "- Removed redundant or duplicate comparison cells.\n",
    "- Added markdown cells for clarity and documentation.\n",
    "- This notebook is now ready for further analysis or extension (e.g., schema validation, transformation testing, or automated reporting)."
   ]
  }
 ],
 "metadata": {
  "kernelspec": {
   "display_name": "base",
   "language": "python",
   "name": "python3"
  },
  "language_info": {
   "codemirror_mode": {
    "name": "ipython",
    "version": 3
   },
   "file_extension": ".py",
   "mimetype": "text/x-python",
   "name": "python",
   "nbconvert_exporter": "python",
   "pygments_lexer": "ipython3",
   "version": "3.12.7"
  }
 },
 "nbformat": 4,
 "nbformat_minor": 5
}
